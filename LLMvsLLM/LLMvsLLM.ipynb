{
 "cells": [
  {
   "cell_type": "code",
   "execution_count": null,
   "metadata": {},
   "outputs": [],
   "source": [
    "from langchain.chains import RetrievalQA\n",
    "from langchain.document_loaders import TextLoader\n",
    "from langchain.prompts import PromptTemplate\n",
    "from langchain.llms import OpenAI\n",
    "# chain({\"input_documents\": docs, \"question\": query}, return_only_outputs=True)"
   ]
  },
  {
   "cell_type": "code",
   "execution_count": 54,
   "metadata": {},
   "outputs": [
    {
     "name": "stdout",
     "output_type": "stream",
     "text": [
      "NB: Xin chào, Anh/Chị [A] phải không ạ?\n",
      "Ừ là tôi đây, ai đấy?\n",
      "Em là nhân viên bán hàng của Công ty CP Năng Lượng Đăng Minh. Anh cần tư vấn về sản phẩm nào ạ?\n",
      "KH: Xin lỗi, nhưng tôi không quan tâm đến sản phẩm của anh. Cảm ơn đã liên hệ.\n",
      "NB: Xin lỗi anh, nếu anh có bất kỳ câu hỏi hoặc cần tư vấn về sản phẩm nào, em sẽ sẵn lòng giúp đỡ. Cảm ơn anh đã liên hệ.\n",
      "KH: Không cần, tôi không quan tâm đến sản phẩm của anh. Cảm ơn đã liên hệ. Anh có sản phẩm nào khác không?\n",
      "NB: Rất tiếc vì sự bất tiện này. Chúng em hiện có nhiều sản phẩm khác mà anh có thể quan tâm. Anh có thể cho em biết những yêu cầu cụ thể của mình để em có thể tư vấn sản phẩm phù hợp hơn được không ạ?\n"
     ]
    },
    {
     "ename": "KeyboardInterrupt",
     "evalue": "",
     "output_type": "error",
     "traceback": [
      "\u001b[0;31m---------------------------------------------------------------------------\u001b[0m",
      "\u001b[0;31mKeyboardInterrupt\u001b[0m                         Traceback (most recent call last)",
      "Cell \u001b[0;32mIn[54], line 84\u001b[0m\n\u001b[1;32m     81\u001b[0m timeout_count \u001b[39m+\u001b[39m\u001b[39m=\u001b[39m \u001b[39m1\u001b[39m\n\u001b[1;32m     83\u001b[0m \u001b[39mif\u001b[39;00m timeout_count \u001b[39m==\u001b[39m \u001b[39m2\u001b[39m: \n\u001b[0;32m---> 84\u001b[0m     time\u001b[39m.\u001b[39;49msleep(\u001b[39m60\u001b[39;49m)\n\u001b[1;32m     85\u001b[0m     timeout_count \u001b[39m=\u001b[39m \u001b[39m0\u001b[39m\n",
      "\u001b[0;31mKeyboardInterrupt\u001b[0m: "
     ]
    }
   ],
   "source": [
    "from langchain.chat_models import ChatOpenAI\n",
    "from langchain.prompts import PromptTemplate\n",
    "from langchain.chains import LLMChain\n",
    "from langchain.document_loaders import WebBaseLoader\n",
    "from langchain.memory import ConversationBufferMemory\n",
    "\n",
    "import time\n",
    "OPENAI_KEY = \n",
    "\n",
    "with open('script.txt', 'r') as f:\n",
    "    context = f.read()\n",
    "\n",
    "customer_template = f\"\"\"\n",
    "You are a customer, you are being sale by a saleman.\n",
    "You feel uninterested in the product. You feel annoyed while being advertised.\n",
    "Answer saleman shortly, based on provided context.\n",
    "Answer must end by an open question.\n",
    "Answer must be in Vietnamese.\n",
    "\n",
    "Context information is below.\n",
    "---------------------\n",
    "{context}\n",
    "---------------------\n",
    "{{chat_history}}\n",
    "{{message}}\n",
    "\"\"\"\n",
    "\n",
    "loader = WebBaseLoader(\"https://eodorshop.com/collections/all\")\n",
    "\n",
    "data = loader.load()\n",
    "data[0].page_content = data[0].page_content.replace('\\n', ' ')\n",
    "\n",
    "sale_template = f\"\"\"\n",
    "You are a saleman, you are texting with a customer.\n",
    "You are advertising for a product, the product's information is provided in product context.\n",
    "Based on product context, answer the customer reasonably an politely.\n",
    "Answer must be in Vietnamese.\n",
    "You must call yourself “em\" and call customer “anh\".\n",
    "\n",
    "Context information is below.\n",
    "---------------------\n",
    "Product context:\n",
    "{data[0].page_content}\n",
    "---------------------\n",
    "{{chat_history}}\n",
    "{{message}}\n",
    "\"\"\"\n",
    "\n",
    "\n",
    "customer_prompt = PromptTemplate(template=customer_template, input_variables=['chat_history', 'message'])\n",
    "sale_prompt = PromptTemplate(template=sale_template, input_variables=['message', 'chat_history'])\n",
    "\n",
    "memory_customer = ConversationBufferMemory(memory_key=\"chat_history\", ai_prefix=\"KH\", human_prefix=\"NB\")\n",
    "memory_sale = ConversationBufferMemory(memory_key=\"chat_history\", ai_prefix=\"NB\", human_prefix=\"KH\")\n",
    "\n",
    "llm = ChatOpenAI(model_name=\"gpt-3.5-turbo\", temperature=0.1, openai_api_key=OPENAI_KEY)\n",
    "\n",
    "init_message = 'Xin chào, Anh/Chị [A] phải không ạ?'\n",
    "\n",
    "is_customer = True\n",
    "timeout_count = 0\n",
    "\n",
    "qa_chain_customer = LLMChain(llm=llm, prompt=customer_prompt, memory=memory_customer)\n",
    "qa_chain_sale = LLMChain(llm=llm, prompt=sale_prompt, memory=memory_sale)\n",
    "\n",
    "\n",
    "print(f'NB: {init_message}')\n",
    "while True:\n",
    "    if is_customer:\n",
    "        # print('KH')\n",
    "        init_message = qa_chain_customer.predict(message=init_message)\n",
    "\n",
    "    else:\n",
    "        # print('NB') \n",
    "        init_message = qa_chain_sale.predict(message=init_message)\n",
    "\n",
    "\n",
    "    print(init_message)\n",
    "\n",
    "    is_customer = not (is_customer)\n",
    "    timeout_count += 1\n",
    "\n",
    "    if timeout_count == 2: \n",
    "        time.sleep(60)\n",
    "        timeout_count = 0"
   ]
  }
 ],
 "metadata": {
  "kernelspec": {
   "display_name": ".venv",
   "language": "python",
   "name": "python3"
  },
  "language_info": {
   "codemirror_mode": {
    "name": "ipython",
    "version": 3
   },
   "file_extension": ".py",
   "mimetype": "text/x-python",
   "name": "python",
   "nbconvert_exporter": "python",
   "pygments_lexer": "ipython3",
   "version": "3.10.12"
  },
  "orig_nbformat": 4
 },
 "nbformat": 4,
 "nbformat_minor": 2
}
